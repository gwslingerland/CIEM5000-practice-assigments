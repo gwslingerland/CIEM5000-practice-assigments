{
 "cells": [
  {
   "cell_type": "code",
   "execution_count": 15,
   "metadata": {},
   "outputs": [],
   "source": [
    "import sympy as sym"
   ]
  },
  {
   "cell_type": "code",
   "execution_count": 16,
   "metadata": {},
   "outputs": [],
   "source": [
    "EI, q, x, L = sym.symbols('EI q x L')\n",
    "w = sym.Function('w')(x)\n",
    "\n",
    "w1, w2, phi1, phi2 = sym.symbols('w1 w2 phi1 phi2')\n",
    "\n",
    "ode = sym.Eq(EI * sym.diff(w, x, x, x, x), q)\n",
    "\n",
    "w = sym.dsolve(ode).rhs\n",
    "\n",
    "eq1 = sym.Eq(w.subs(x, 0), w1)\n",
    "eq2 = sym.Eq(w.subs(x, L), w2)\n",
    "eq3 = sym.Eq(-w.diff(x).subs(x, 0), phi1)\n",
    "eq4 = sym.Eq(-w.diff(x).subs(x, L), phi2)\n",
    "\n",
    "constants = sym.solve([eq1, eq2, eq3, eq4], sym.symbols('C1 C2 C3 C4'))"
   ]
  },
  {
   "cell_type": "code",
   "execution_count": 17,
   "metadata": {},
   "outputs": [],
   "source": [
    "w = w.subs(constants)"
   ]
  },
  {
   "cell_type": "code",
   "execution_count": 18,
   "metadata": {},
   "outputs": [],
   "source": [
    "M = -EI * w.diff(x, x)"
   ]
  },
  {
   "cell_type": "code",
   "execution_count": 19,
   "metadata": {},
   "outputs": [
    {
     "name": "stdout",
     "output_type": "stream",
     "text": [
      "-phi1*x + w1 + q*x**4/(24*EI) + x**2*(48*EI*L*phi1 + 24*EI*L*phi2 - 72*EI*w1 + 72*EI*w2 + L**4*q)/(24*EI*L**2) + x**3*(-12*EI*L*phi1 - 12*EI*L*phi2 + 24*EI*w1 - 24*EI*w2 - L**4*q)/(12*EI*L**3)\n"
     ]
    }
   ],
   "source": [
    "print(w)"
   ]
  },
  {
   "cell_type": "code",
   "execution_count": null,
   "metadata": {},
   "outputs": [],
   "source": []
  }
 ],
 "metadata": {
  "kernelspec": {
   "display_name": "slender",
   "language": "python",
   "name": "python3"
  },
  "language_info": {
   "codemirror_mode": {
    "name": "ipython",
    "version": 3
   },
   "file_extension": ".py",
   "mimetype": "text/x-python",
   "name": "python",
   "nbconvert_exporter": "python",
   "pygments_lexer": "ipython3",
   "version": "3.13.0"
  }
 },
 "nbformat": 4,
 "nbformat_minor": 2
}
