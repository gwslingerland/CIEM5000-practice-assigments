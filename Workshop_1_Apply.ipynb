{
 "cells": [
  {
   "cell_type": "markdown",
   "id": "9ca780e6-4777-4af4-a3f3-e1444e016768",
   "metadata": {},
   "source": [
    "# Workshop 1 - Apply\n",
    "    \n",
    "In this notebook you will work on a homework assignment involving a Vierendeel frame."
   ]
  },
  {
   "cell_type": "markdown",
   "id": "568856ef",
   "metadata": {},
   "source": [
    "Our matrix method implementation is now completely stored in a local package, consisting of three classes."
   ]
  },
  {
   "cell_type": "markdown",
   "id": "aa647b73-f511-4581-a3c4-15f7a8228267",
   "metadata": {},
   "source": [
    "## Vierendeel frame"
   ]
  },
  {
   "cell_type": "markdown",
   "id": "09883360-5e5b-4a00-bb00-bd7431fa0bb2",
   "metadata": {},
   "source": [
    "<center><figure>\n",
    "  <IMG SRC=\"https://raw.githubusercontent.com/ibcmrocha/public/main/vierendeel.png\" WIDTH=400 ALIGN=\"center\">\n",
    "      </figure></center>\n",
    "\n",
    "With:\n",
    "\n",
    "- $h = 1$\n",
    "- $b = 1$\n",
    "- $EI_r = 10000$\n",
    "- $EI_k = 1000$\n",
    "- $EA  = 1\\cdot 10^{10}$\n",
    "- $H = 100$\n"
   ]
  },
  {
   "cell_type": "markdown",
   "id": "8c2a2cb4-69b8-4068-95d7-a716fa34bdc7",
   "metadata": {},
   "source": [
    "In the first half of this course last quarter, you have learned that the deformation of Vierendeel frames (an example of which is shown above) can be obtained in a simplified way by assuming the global deformation can be described by a shear beam with equivalent stiffness given by:\n",
    "\n",
    "$$\n",
    "k = \\frac{24}{h\\left(\\displaystyle\\frac{h}{EI_k}+\\frac{b}{EI_r}\\right)}\n",
    "$$\n",
    "\n",
    "Now that you have the tools to solve the original frame problem using the Matrix Method, your task in this assignment is to investigate the validity of this equivalent shear beam model.\n",
    "\n",
    "Note that the checks only had a single element. For this model you need to obtain $\\mathbf{K}$ and $\\mathbf{f}$ of all elements and add them to the correct locations in the global stiffness matrix and force vector. To do that, make use of the `global_dofs` function of the Element class and the `np.ix_` Numpy utility function. (Tip: refer back to what you did in the `constrain` function).\n",
    "\n",
    "Once you have a solution, use SymPy / Maple / pen and paper to solve a shear beam problem with the equivalent stiffness given above (It is very similar to the simple extension problem above) and compare the horizontal displacement at the point of application of $H$ for the two models.\n",
    "\n",
    "Investigate how the two models compare for different values of $EA$, ranging from very small (*e.g.* $1\\cdot 10^{-5}$) to very large (*e.g.* $1\\cdot10^{10}$). What explains the behavior you observe?"
   ]
  },
  {
   "cell_type": "code",
   "execution_count": 1,
   "id": "d38dc240",
   "metadata": {},
   "outputs": [],
   "source": [
    "import numpy as np\n",
    "import matrixmethod as mm\n",
    "%config InlineBackend.figure_formats = ['svg']"
   ]
  },
  {
   "cell_type": "code",
   "execution_count": 2,
   "id": "e9456735-d5b2-4f9e-b7c5-e8ef69077468",
   "metadata": {},
   "outputs": [],
   "source": [
    "mm.Node.clear()\n",
    "mm.Element.clear()"
   ]
  },
  {
   "cell_type": "code",
   "execution_count": 3,
   "id": "4e69856b",
   "metadata": {},
   "outputs": [
    {
     "name": "stdout",
     "output_type": "stream",
     "text": [
      "Element connecting:\n",
      "node #1:\n",
      " This node has:\n",
      " - x coordinate=0,\n",
      " - z coordinate=0,\n",
      " - degrees of freedom=[0, 1, 2],\n",
      " - load vector=[0. 0. 0.]\n",
      "with node #2:\n",
      " This node has:\n",
      " - x coordinate=1,\n",
      " - z coordinate=0,\n",
      " - degrees of freedom=[3, 4, 5],\n",
      " - load vector=[0. 0. 0.]\n",
      "Element connecting:\n",
      "node #1:\n",
      " This node has:\n",
      " - x coordinate=1,\n",
      " - z coordinate=0,\n",
      " - degrees of freedom=[3, 4, 5],\n",
      " - load vector=[0. 0. 0.]\n",
      "with node #2:\n",
      " This node has:\n",
      " - x coordinate=1,\n",
      " - z coordinate=-1,\n",
      " - degrees of freedom=[6, 7, 8],\n",
      " - load vector=[0. 0. 0.]\n",
      "Element connecting:\n",
      "node #1:\n",
      " This node has:\n",
      " - x coordinate=1,\n",
      " - z coordinate=-1,\n",
      " - degrees of freedom=[6, 7, 8],\n",
      " - load vector=[0. 0. 0.]\n",
      "with node #2:\n",
      " This node has:\n",
      " - x coordinate=0,\n",
      " - z coordinate=-1,\n",
      " - degrees of freedom=[9, 10, 11],\n",
      " - load vector=[0. 0. 0.]\n",
      "Element connecting:\n",
      "node #1:\n",
      " This node has:\n",
      " - x coordinate=0,\n",
      " - z coordinate=0,\n",
      " - degrees of freedom=[0, 1, 2],\n",
      " - load vector=[0. 0. 0.]\n",
      "with node #2:\n",
      " This node has:\n",
      " - x coordinate=0,\n",
      " - z coordinate=-1,\n",
      " - degrees of freedom=[9, 10, 11],\n",
      " - load vector=[0. 0. 0.]\n"
     ]
    }
   ],
   "source": [
    "h = 1\n",
    "b = 1\n",
    "EIr = 10000\n",
    "EIk = 1000\n",
    "EA  = 1e10\n",
    "H = 100\n",
    "\n",
    "nodes = []\n",
    "\n",
    "nodes.append(mm.Node(0,0))\n",
    "nodes.append(mm.Node(b,0))\n",
    "nodes.append(mm.Node(b,-h))\n",
    "nodes.append(mm.Node(0,-h))\n",
    "\n",
    "elems = []\n",
    "\n",
    "elems.append(mm.Element(nodes[0], nodes[1]))\n",
    "elems.append(mm.Element(nodes[1], nodes[2]))\n",
    "elems.append(mm.Element(nodes[2], nodes[3]))\n",
    "elems.append(mm.Element(nodes[0], nodes[3]))\n",
    "\n",
    "beams = {}\n",
    "columns = {}\n",
    "beams['EI'] = EIr\n",
    "beams['EA'] = EA\n",
    "columns['EI'] = EIk\n",
    "columns['EA'] = EA\n",
    "\n",
    "elems[0].set_section (beams)\n",
    "elems[1].set_section (columns)\n",
    "elems[2].set_section (beams)\n",
    "elems[3].set_section (columns)\n",
    "\n",
    "for elem in elems:\n",
    "    print(elem)\n",
    "\n",
    "con = mm.Constrainer()\n",
    "\n",
    "con.fix_dof (nodes[0], 0)\n",
    "con.fix_dof (nodes[0], 1)\n",
    "con.fix_dof (nodes[1], 1)\n",
    "\n",
    "nodes[3].add_load ([H,0,0])"
   ]
  },
  {
   "cell_type": "code",
   "execution_count": 4,
   "id": "c5518574-b460-47a1-8537-cd45bd9451e2",
   "metadata": {},
   "outputs": [],
   "source": [
    "global_k = np.zeros ((3*len(nodes), 3*len(nodes)))\n",
    "global_f = np.zeros (3*len(nodes))\n",
    "\n",
    "for elem in elems:\n",
    "    elmat = elem.stiffness()\n",
    "    idofs = elem.global_dofs()\n",
    "    \n",
    "    global_k[np.ix_(idofs,idofs)] += elmat\n",
    "\n",
    "for node in nodes:\n",
    "    global_f[node.dofs] += node.p"
   ]
  },
  {
   "cell_type": "code",
   "execution_count": 5,
   "id": "e8113fb3",
   "metadata": {},
   "outputs": [
    {
     "name": "stdout",
     "output_type": "stream",
     "text": [
      "[-4.16667982e-04  4.99999539e-09 -4.16665674e-04  4.58333833e-03\n",
      "  4.99999807e-09 -4.16675352e-04  4.58334333e-03 -4.99999806e-09\n",
      " -4.16677659e-04]\n"
     ]
    }
   ],
   "source": [
    "Kff, Ff = con.constrain ( global_k, global_f )\n",
    "u = np.matmul ( np.linalg.inv(Kff), Ff )\n",
    "print(u)"
   ]
  },
  {
   "cell_type": "code",
   "execution_count": 11,
   "id": "9f2b20cd",
   "metadata": {},
   "outputs": [
    {
     "data": {
      "text/latex": [
       "$\\displaystyle \\frac{H x}{k}$"
      ],
      "text/plain": [
       "H*x/k"
      ]
     },
     "metadata": {},
     "output_type": "display_data"
    },
    {
     "data": {
      "text/latex": [
       "$\\displaystyle 0.00458337152809607$"
      ],
      "text/plain": [
       "0.00458337152809607"
      ]
     },
     "metadata": {},
     "output_type": "display_data"
    }
   ],
   "source": [
    "#provided in case you want to solve the shear beam problem using SymPy\n",
    "import sympy as sym\n",
    "x, k, L, H = sym.symbols('x, k, L, H')\n",
    "w = sym.Function('w')\n",
    "\n",
    "ODE_shear = sym.Eq(k*w(x).diff(x,x),0)\n",
    "\n",
    "w = sym.dsolve(ODE_shear).rhs\n",
    "gamma = w.diff(x)\n",
    "V = k*gamma\n",
    "\n",
    "eq1 = sym.Eq(w.subs(x,0),0)\n",
    "eq2 = sym.Eq(V.subs(x,L),H)\n",
    "\n",
    "C_sol = sym.solve([eq1,eq2], sym.symbols('C1, C2'))\n",
    "\n",
    "display(w.subs(C_sol))\n",
    "\n",
    "display(w.subs(C_sol).subs({k:21818, H:100, x:1}).evalf())"
   ]
  },
  {
   "cell_type": "markdown",
   "id": "4eb8e4fa",
   "metadata": {},
   "source": [
    "The shear beam solution derived with sympy, should be seen as the vierendeel frame turned 90 degrees on its side. The vertical displacement of 0.0045 found with sympy, is the same as the hoirzontal displacement found for node4: *4.58334333e-03* or 0.00458"
   ]
  },
  {
   "cell_type": "markdown",
   "id": "afbe7362",
   "metadata": {},
   "source": []
  }
 ],
 "metadata": {
  "kernelspec": {
   "display_name": "slender",
   "language": "python",
   "name": "python3"
  },
  "language_info": {
   "codemirror_mode": {
    "name": "ipython",
    "version": 3
   },
   "file_extension": ".py",
   "mimetype": "text/x-python",
   "name": "python",
   "nbconvert_exporter": "python",
   "pygments_lexer": "ipython3",
   "version": "3.13.0"
  }
 },
 "nbformat": 4,
 "nbformat_minor": 5
}
